{
 "metadata": {
  "name": "",
  "signature": "sha256:05b0e259e9fb85d5ce46a1cf7eaed29e9178ef5f65a52538622f770260426637"
 },
 "nbformat": 3,
 "nbformat_minor": 0,
 "worksheets": [
  {
   "cells": [
    {
     "cell_type": "code",
     "collapsed": false,
     "input": [
      "import numpy as np\n",
      "import pandas as pd\n",
      "import matplotlib.pyplot as plt\n",
      "import csv\n",
      "import glob\n",
      "import pickle\n",
      "import STD_Functions as STD\n",
      "pd.set_option('display.max_rows', 100)\n",
      "pd.set_option('display.max_columns', 100)\n",
      "%matplotlib inline"
     ],
     "language": "python",
     "metadata": {},
     "outputs": [],
     "prompt_number": 45
    },
    {
     "cell_type": "markdown",
     "metadata": {},
     "source": [
      "Create a tab file with KEGG information for the two transcriptomes"
     ]
    },
    {
     "cell_type": "code",
     "collapsed": false,
     "input": [
      "#import conversion tables for T. rot and S.cost\n",
      "\n",
      "MMETSP_Conversion=pd.read_table(\"MMETSP0013_2-20120614.nt_CDHit98_Conversion.tab\",index_col=\"gID\")\n",
      "Trot_Conversion=pd.read_table(\"Thalassiosira_rotula_final_contigs_CDHit98_Conversion.tab\",index_col=\"gID\")\n",
      "MMETSP_Conversion.head()"
     ],
     "language": "python",
     "metadata": {},
     "outputs": [
      {
       "html": [
        "<div style=\"max-height:1000px;max-width:1500px;overflow:auto;\">\n",
        "<table border=\"1\" class=\"dataframe\">\n",
        "  <thead>\n",
        "    <tr style=\"text-align: right;\">\n",
        "      <th></th>\n",
        "      <th>MMETSP_ID</th>\n",
        "      <th>Description</th>\n",
        "    </tr>\n",
        "    <tr>\n",
        "      <th>gID</th>\n",
        "      <th></th>\n",
        "      <th></th>\n",
        "    </tr>\n",
        "  </thead>\n",
        "  <tbody>\n",
        "    <tr>\n",
        "      <th>Skcos1</th>\n",
        "      <td> MMETSP0013_2-20120614|24114 </td>\n",
        "      <td> CAMNT_0000301489</td>\n",
        "    </tr>\n",
        "    <tr>\n",
        "      <th>Skcos2</th>\n",
        "      <td> MMETSP0013_2-20120614|12570 </td>\n",
        "      <td> CAMNT_0000278401</td>\n",
        "    </tr>\n",
        "    <tr>\n",
        "      <th>Skcos3</th>\n",
        "      <td> MMETSP0013_2-20120614|12571 </td>\n",
        "      <td> CAMNT_0000278403</td>\n",
        "    </tr>\n",
        "    <tr>\n",
        "      <th>Skcos4</th>\n",
        "      <td> MMETSP0013_2-20120614|12314 </td>\n",
        "      <td> CAMNT_0000277889</td>\n",
        "    </tr>\n",
        "    <tr>\n",
        "      <th>Skcos5</th>\n",
        "      <td> MMETSP0013_2-20120614|12318 </td>\n",
        "      <td> CAMNT_0000277897</td>\n",
        "    </tr>\n",
        "  </tbody>\n",
        "</table>\n",
        "</div>"
       ],
       "metadata": {},
       "output_type": "pyout",
       "prompt_number": 6,
       "text": [
        "                           MMETSP_ID       Description\n",
        "gID                                                   \n",
        "Skcos1  MMETSP0013_2-20120614|24114   CAMNT_0000301489\n",
        "Skcos2  MMETSP0013_2-20120614|12570   CAMNT_0000278401\n",
        "Skcos3  MMETSP0013_2-20120614|12571   CAMNT_0000278403\n",
        "Skcos4  MMETSP0013_2-20120614|12314   CAMNT_0000277889\n",
        "Skcos5  MMETSP0013_2-20120614|12318   CAMNT_0000277897"
       ]
      }
     ],
     "prompt_number": 6
    },
    {
     "cell_type": "code",
     "collapsed": false,
     "input": [
      "MMETSP_Conversion.head()\n",
      "MMETSP_Conversion.head()"
     ],
     "language": "python",
     "metadata": {},
     "outputs": [
      {
       "html": [
        "<div style=\"max-height:1000px;max-width:1500px;overflow:auto;\">\n",
        "<table border=\"1\" class=\"dataframe\">\n",
        "  <thead>\n",
        "    <tr style=\"text-align: right;\">\n",
        "      <th></th>\n",
        "      <th>MMETSP_ID</th>\n",
        "      <th>Description</th>\n",
        "    </tr>\n",
        "    <tr>\n",
        "      <th>gID</th>\n",
        "      <th></th>\n",
        "      <th></th>\n",
        "    </tr>\n",
        "  </thead>\n",
        "  <tbody>\n",
        "    <tr>\n",
        "      <th>Skcos1</th>\n",
        "      <td> MMETSP0013_2-20120614|24114 </td>\n",
        "      <td> CAMNT_0000301489</td>\n",
        "    </tr>\n",
        "    <tr>\n",
        "      <th>Skcos2</th>\n",
        "      <td> MMETSP0013_2-20120614|12570 </td>\n",
        "      <td> CAMNT_0000278401</td>\n",
        "    </tr>\n",
        "    <tr>\n",
        "      <th>Skcos3</th>\n",
        "      <td> MMETSP0013_2-20120614|12571 </td>\n",
        "      <td> CAMNT_0000278403</td>\n",
        "    </tr>\n",
        "    <tr>\n",
        "      <th>Skcos4</th>\n",
        "      <td> MMETSP0013_2-20120614|12314 </td>\n",
        "      <td> CAMNT_0000277889</td>\n",
        "    </tr>\n",
        "    <tr>\n",
        "      <th>Skcos5</th>\n",
        "      <td> MMETSP0013_2-20120614|12318 </td>\n",
        "      <td> CAMNT_0000277897</td>\n",
        "    </tr>\n",
        "  </tbody>\n",
        "</table>\n",
        "</div>"
       ],
       "metadata": {},
       "output_type": "pyout",
       "prompt_number": 7,
       "text": [
        "                           MMETSP_ID       Description\n",
        "gID                                                   \n",
        "Skcos1  MMETSP0013_2-20120614|24114   CAMNT_0000301489\n",
        "Skcos2  MMETSP0013_2-20120614|12570   CAMNT_0000278401\n",
        "Skcos3  MMETSP0013_2-20120614|12571   CAMNT_0000278403\n",
        "Skcos4  MMETSP0013_2-20120614|12314   CAMNT_0000277889\n",
        "Skcos5  MMETSP0013_2-20120614|12318   CAMNT_0000277897"
       ]
      }
     ],
     "prompt_number": 7
    },
    {
     "cell_type": "code",
     "collapsed": false,
     "input": [
      "#import KASS index\n",
      "T_KASS=pd.read_table(\"Throt_KAASOutput.txt\", index_col='gID')\n",
      "S_KASS=pd.read_table(\"Skcos_KAASOutput.txt\", index_col='gID')\n",
      "T_KASS.head()\n",
      "T_KASS=T_KASS.dropna()\n",
      "S_KASS=S_KASS.dropna()\n",
      "\n",
      "Trot_Conversion.head()"
     ],
     "language": "python",
     "metadata": {},
     "outputs": [
      {
       "html": [
        "<div style=\"max-height:1000px;max-width:1500px;overflow:auto;\">\n",
        "<table border=\"1\" class=\"dataframe\">\n",
        "  <thead>\n",
        "    <tr style=\"text-align: right;\">\n",
        "      <th></th>\n",
        "      <th>Old Seq Name</th>\n",
        "      <th>Description</th>\n",
        "    </tr>\n",
        "    <tr>\n",
        "      <th>gID</th>\n",
        "      <th></th>\n",
        "      <th></th>\n",
        "    </tr>\n",
        "  </thead>\n",
        "  <tbody>\n",
        "    <tr>\n",
        "      <th>Throt1</th>\n",
        "      <td> Locus1v1rpkm115352.03</td>\n",
        "      <td> Locus1v1rpkm115352.03</td>\n",
        "    </tr>\n",
        "    <tr>\n",
        "      <th>Throt2</th>\n",
        "      <td> Locus2v1rpkm112634.34</td>\n",
        "      <td> Locus2v1rpkm112634.34</td>\n",
        "    </tr>\n",
        "    <tr>\n",
        "      <th>Throt3</th>\n",
        "      <td> Locus3v1rpkm108756.44</td>\n",
        "      <td> Locus3v1rpkm108756.44</td>\n",
        "    </tr>\n",
        "    <tr>\n",
        "      <th>Throt4</th>\n",
        "      <td>  Locus4v1rpkm95958.08</td>\n",
        "      <td>  Locus4v1rpkm95958.08</td>\n",
        "    </tr>\n",
        "    <tr>\n",
        "      <th>Throt5</th>\n",
        "      <td>  Locus5v1rpkm84149.15</td>\n",
        "      <td>  Locus5v1rpkm84149.15</td>\n",
        "    </tr>\n",
        "  </tbody>\n",
        "</table>\n",
        "</div>"
       ],
       "metadata": {},
       "output_type": "pyout",
       "prompt_number": 8,
       "text": [
        "                 Old Seq Name            Description\n",
        "gID                                                 \n",
        "Throt1  Locus1v1rpkm115352.03  Locus1v1rpkm115352.03\n",
        "Throt2  Locus2v1rpkm112634.34  Locus2v1rpkm112634.34\n",
        "Throt3  Locus3v1rpkm108756.44  Locus3v1rpkm108756.44\n",
        "Throt4   Locus4v1rpkm95958.08   Locus4v1rpkm95958.08\n",
        "Throt5   Locus5v1rpkm84149.15   Locus5v1rpkm84149.15"
       ]
      }
     ],
     "prompt_number": 8
    },
    {
     "cell_type": "code",
     "collapsed": false,
     "input": [
      "S_KASS=S_KASS.join(MMETSP_Conversion)\n",
      "T_KASS=T_KASS.join(Trot_Conversion)\n",
      "T_KASS=T_KASS.drop('Old Seq Name',axis=1)\n",
      "\n"
     ],
     "language": "python",
     "metadata": {},
     "outputs": [],
     "prompt_number": 9
    },
    {
     "cell_type": "code",
     "collapsed": false,
     "input": [
      "All_KASS=T_KASS.append(S_KASS)\n"
     ],
     "language": "python",
     "metadata": {},
     "outputs": [],
     "prompt_number": 10
    },
    {
     "cell_type": "code",
     "collapsed": false,
     "input": [
      "All_KASS['gID']=All_KASS.index"
     ],
     "language": "python",
     "metadata": {},
     "outputs": [],
     "prompt_number": 11
    },
    {
     "cell_type": "code",
     "collapsed": false,
     "input": [
      "keggTable=pd.read_table('ko00002_table.tab')\n",
      "keggTable.head()\n",
      "All_KASS=All_KASS.merge(keggTable, on='KeggID', how='inner')\n"
     ],
     "language": "python",
     "metadata": {},
     "outputs": [],
     "prompt_number": 12
    },
    {
     "cell_type": "code",
     "collapsed": false,
     "input": [
      "cols=All_KASS.columns\n",
      "print cols\n",
      "cols=cols[[3,0,2,1,4,6,7]]\n",
      "All_KASS=All_KASS[cols]\n"
     ],
     "language": "python",
     "metadata": {},
     "outputs": [
      {
       "output_type": "stream",
       "stream": "stdout",
       "text": [
        "Index([u'Description', u'KeggID', u'MMETSP_ID', u'gID', u'Kegg Definition', u'Module ID', u'Module Definition', u'Submodule1', u'Submodule2', u'SuperModule'], dtype=object)\n"
       ]
      }
     ],
     "prompt_number": 13
    },
    {
     "cell_type": "code",
     "collapsed": false,
     "input": [
      "All_KASS.to_csv('STable3_KEGG_Annotation.tab',sep='\\t',header=True, index=False)"
     ],
     "language": "python",
     "metadata": {},
     "outputs": [],
     "prompt_number": 14
    },
    {
     "cell_type": "markdown",
     "metadata": {},
     "source": [
      "Create a file with the tpm counts for T. rotula and S. costatum that are significantly regulated. "
     ]
    },
    {
     "cell_type": "code",
     "collapsed": false,
     "input": [
      "#Get stable genes\n",
      "\n",
      "PickleOutDir=\"/Users/harrietalexander/Dropbox/NB_141020/PickledData/\"\n",
      "\n",
      "#Throt_filenames from pickle\n",
      "Throt_Pk_Count=['Throt_raw', 'Throt_tpm', 'Throt_SGNC', 'Throt_GeneList']\n",
      "\n",
      "#Skcos Raw Data\n",
      "\n",
      "#Skcos filenames from pickle\n",
      "Skcos_Pk_Count=['Skcos_raw', 'Skcos_tpm', 'Skcos_SGNC', 'Skcos_GeneList']\n",
      "\n",
      "#Get STD_all-- from pickle. \n",
      "[Throt_raw, Throt_tpm, Throt_SGNC, Throt_GeneList]=STD.unPickleAll(Throt_Pk_Count, PickleOutDir)\n",
      "\n",
      "\n",
      "\n",
      "[Skcos_raw, Skcos_tpm, Skcos_SGNC, Skcos_GeneList]=STD.unPickleAll(Skcos_Pk_Count, PickleOutDir)\n",
      "\n"
     ],
     "language": "python",
     "metadata": {},
     "outputs": [],
     "prompt_number": 55
    },
    {
     "cell_type": "code",
     "collapsed": false,
     "input": [
      "#Get the regualted gene list\n",
      "SFile=csv.reader(open('AllSignificantlyRegulated.tab'))\n",
      "next(SFile, None)\n",
      "Sreg=[]\n",
      "for x in SFile:\n",
      "    Sreg.append(x[0])\n",
      "Sreg.append(Throt_GeneList['Stable_genes'][0])\n",
      "Sreg.append(Skcos_GeneList['Stable_genes'][0])\n",
      "Sreg.append(Skcos_GeneList['Stable_genes'][1])\n",
      "Sreg.append(Skcos_GeneList['Stable_genes'][2])\n",
      "Sreg.append(Skcos_GeneList['Stable_genes'][3])\n",
      "\n"
     ],
     "language": "python",
     "metadata": {},
     "outputs": [
      {
       "metadata": {},
       "output_type": "pyout",
       "prompt_number": 67,
       "text": [
        "['Skcos100', 'Throt19540', 'Skcos9408', 'Skcos384', 'Skcos3256', 'Skcos15339']"
       ]
      }
     ],
     "prompt_number": 67
    },
    {
     "cell_type": "code",
     "collapsed": false,
     "input": [
      "#Create table with the new, old names of each regulated data\n",
      "MMETSP_Conversion=pd.read_table(\"MMETSP0013_2-20120614.nt_CDHit98_Conversion.tab\",index_col=\"gID\")\n",
      "Trot_Conversion=pd.read_table(\"Thalassiosira_rotula_final_contigs_CDHit98_Conversion.tab\",index_col=\"gID\")\n",
      "All_Seq=MMETSP_Conversion.append(Trot_Conversion)\n",
      "RegulatedSeq=All_Seq.loc[Sreg] #get only the regulated\n",
      "RegulatedSeq=RegulatedSeq.drop('Old Seq Name',axis=1)\n",
      "\n",
      "# All_Reg=All_KASS[[0,1,2]]\n",
      "# All_Reg=All_Reg.set_index('gID')\n",
      "# All_Reg.loc[Sreg]"
     ],
     "language": "python",
     "metadata": {},
     "outputs": [],
     "prompt_number": 68
    },
    {
     "cell_type": "code",
     "collapsed": false,
     "input": [
      "#Import count data in raw, tpm\n",
      "\n",
      "rawCounts=pd.read_table(\"AllRaw.tab\",index_col='geneID')\n",
      "tpmCounts=pd.read_table(\"AllTPM.tab\", index_col='geneID')\n"
     ],
     "language": "python",
     "metadata": {},
     "outputs": [],
     "prompt_number": 69
    },
    {
     "cell_type": "code",
     "collapsed": false,
     "input": [
      "RegulatedSeq_tpm=RegulatedSeq.join(tpmCounts)\n",
      "RegulatedSeq_tpm['Up_-N_v_+N']=0\n",
      "RegulatedSeq_tpm['Dn_-N_v_+N']=0\n",
      "RegulatedSeq_tpm['Up_-P_v_+P']=0\n",
      "RegulatedSeq_tpm['Dn_-P_v_+P']=0\n",
      "\n",
      "RegulatedSeq_tpm.tail()"
     ],
     "language": "python",
     "metadata": {},
     "outputs": [
      {
       "html": [
        "<div style=\"max-height:1000px;max-width:1500px;overflow:auto;\">\n",
        "<table border=\"1\" class=\"dataframe\">\n",
        "  <thead>\n",
        "    <tr style=\"text-align: right;\">\n",
        "      <th></th>\n",
        "      <th>Description</th>\n",
        "      <th>MMETSP_ID</th>\n",
        "      <th>S1</th>\n",
        "      <th>S2</th>\n",
        "      <th>S3</th>\n",
        "      <th>S4</th>\n",
        "      <th>S5</th>\n",
        "      <th>+N</th>\n",
        "      <th>-N</th>\n",
        "      <th>+P</th>\n",
        "      <th>-P</th>\n",
        "      <th>Control</th>\n",
        "      <th>Up_-N_v_+N</th>\n",
        "      <th>Dn_-N_v_+N</th>\n",
        "      <th>Up_-P_v_+P</th>\n",
        "      <th>Dn_-P_v_+P</th>\n",
        "    </tr>\n",
        "  </thead>\n",
        "  <tbody>\n",
        "    <tr>\n",
        "      <th>Throt19540</th>\n",
        "      <td> Locus22917v1rpkm1.63</td>\n",
        "      <td>                          NaN</td>\n",
        "      <td>  415.253527</td>\n",
        "      <td> 499.276470</td>\n",
        "      <td> 758.953131</td>\n",
        "      <td> 567.031874</td>\n",
        "      <td> 622.505894</td>\n",
        "      <td> 661.876069</td>\n",
        "      <td> 668.606575</td>\n",
        "      <td> 569.898476</td>\n",
        "      <td> 651.629475</td>\n",
        "      <td> 663.686523</td>\n",
        "      <td> 0</td>\n",
        "      <td> 0</td>\n",
        "      <td> 0</td>\n",
        "      <td> 0</td>\n",
        "    </tr>\n",
        "    <tr>\n",
        "      <th>Skcos9408</th>\n",
        "      <td>     CAMNT_0000260109</td>\n",
        "      <td>  MMETSP0013_2-20120614|3424 </td>\n",
        "      <td>  108.768938</td>\n",
        "      <td>  17.457557</td>\n",
        "      <td> 192.298587</td>\n",
        "      <td>   5.812784</td>\n",
        "      <td>  18.335411</td>\n",
        "      <td>  97.339335</td>\n",
        "      <td>  93.963671</td>\n",
        "      <td> 103.744867</td>\n",
        "      <td> 105.358551</td>\n",
        "      <td> 106.469205</td>\n",
        "      <td> 0</td>\n",
        "      <td> 0</td>\n",
        "      <td> 0</td>\n",
        "      <td> 0</td>\n",
        "    </tr>\n",
        "    <tr>\n",
        "      <th>Skcos384</th>\n",
        "      <td>     CAMNT_0000274157</td>\n",
        "      <td> MMETSP0013_2-20120614|10448 </td>\n",
        "      <td> 1118.709038</td>\n",
        "      <td> 162.899773</td>\n",
        "      <td> 676.774287</td>\n",
        "      <td> 141.620567</td>\n",
        "      <td> 153.335958</td>\n",
        "      <td> 335.954213</td>\n",
        "      <td> 335.308716</td>\n",
        "      <td> 321.447827</td>\n",
        "      <td> 294.954824</td>\n",
        "      <td> 345.242053</td>\n",
        "      <td> 0</td>\n",
        "      <td> 0</td>\n",
        "      <td> 0</td>\n",
        "      <td> 0</td>\n",
        "    </tr>\n",
        "    <tr>\n",
        "      <th>Skcos3256</th>\n",
        "      <td>     CAMNT_0000276065</td>\n",
        "      <td> MMETSP0013_2-20120614|11402 </td>\n",
        "      <td>  392.015126</td>\n",
        "      <td>  59.894575</td>\n",
        "      <td> 215.430627</td>\n",
        "      <td>  35.669359</td>\n",
        "      <td>  36.995342</td>\n",
        "      <td> 108.262702</td>\n",
        "      <td> 106.835407</td>\n",
        "      <td>  95.144256</td>\n",
        "      <td> 105.604142</td>\n",
        "      <td> 107.513020</td>\n",
        "      <td> 0</td>\n",
        "      <td> 0</td>\n",
        "      <td> 0</td>\n",
        "      <td> 0</td>\n",
        "    </tr>\n",
        "    <tr>\n",
        "      <th>Skcos15339</th>\n",
        "      <td>     CAMNT_0000300745</td>\n",
        "      <td> MMETSP0013_2-20120614|23742 </td>\n",
        "      <td> 1134.218868</td>\n",
        "      <td> 166.351991</td>\n",
        "      <td> 799.568663</td>\n",
        "      <td> 203.975892</td>\n",
        "      <td> 243.552669</td>\n",
        "      <td> 400.523448</td>\n",
        "      <td> 435.064668</td>\n",
        "      <td> 414.173161</td>\n",
        "      <td> 372.315997</td>\n",
        "      <td> 436.314976</td>\n",
        "      <td> 0</td>\n",
        "      <td> 0</td>\n",
        "      <td> 0</td>\n",
        "      <td> 0</td>\n",
        "    </tr>\n",
        "  </tbody>\n",
        "</table>\n",
        "</div>"
       ],
       "metadata": {},
       "output_type": "pyout",
       "prompt_number": 70,
       "text": [
        "                     Description                     MMETSP_ID           S1  \\\n",
        "Throt19540  Locus22917v1rpkm1.63                           NaN   415.253527   \n",
        "Skcos9408       CAMNT_0000260109   MMETSP0013_2-20120614|3424    108.768938   \n",
        "Skcos384        CAMNT_0000274157  MMETSP0013_2-20120614|10448   1118.709038   \n",
        "Skcos3256       CAMNT_0000276065  MMETSP0013_2-20120614|11402    392.015126   \n",
        "Skcos15339      CAMNT_0000300745  MMETSP0013_2-20120614|23742   1134.218868   \n",
        "\n",
        "                    S2          S3          S4          S5          +N  \\\n",
        "Throt19540  499.276470  758.953131  567.031874  622.505894  661.876069   \n",
        "Skcos9408    17.457557  192.298587    5.812784   18.335411   97.339335   \n",
        "Skcos384    162.899773  676.774287  141.620567  153.335958  335.954213   \n",
        "Skcos3256    59.894575  215.430627   35.669359   36.995342  108.262702   \n",
        "Skcos15339  166.351991  799.568663  203.975892  243.552669  400.523448   \n",
        "\n",
        "                    -N          +P          -P     Control  Up_-N_v_+N  \\\n",
        "Throt19540  668.606575  569.898476  651.629475  663.686523           0   \n",
        "Skcos9408    93.963671  103.744867  105.358551  106.469205           0   \n",
        "Skcos384    335.308716  321.447827  294.954824  345.242053           0   \n",
        "Skcos3256   106.835407   95.144256  105.604142  107.513020           0   \n",
        "Skcos15339  435.064668  414.173161  372.315997  436.314976           0   \n",
        "\n",
        "            Dn_-N_v_+N  Up_-P_v_+P  Dn_-P_v_+P  \n",
        "Throt19540           0           0           0  \n",
        "Skcos9408            0           0           0  \n",
        "Skcos384             0           0           0  \n",
        "Skcos3256            0           0           0  \n",
        "Skcos15339           0           0           0  "
       ]
      }
     ],
     "prompt_number": 70
    },
    {
     "cell_type": "code",
     "collapsed": false,
     "input": [
      "#import Lists of regulated genes\n",
      "RegHash={}\n",
      "names=[]\n",
      "for file in glob.glob('*List*'):\n",
      "    with open(file) as f:\n",
      "        cf=csv.reader(f)\n",
      "        next(cf,None)\n",
      "        gList=[]\n",
      "        for x in cf:\n",
      "            gList.append(x[0].strip())\n",
      "    name=file[:-8]\n",
      "    RegHash[name]=gList\n",
      "    names.append(name)\n",
      "print names"
     ],
     "language": "python",
     "metadata": {},
     "outputs": [
      {
       "output_type": "stream",
       "stream": "stdout",
       "text": [
        "['DnMinusN', 'DnMinusP', 'UpMinusN', 'UpMinusP']\n"
       ]
      }
     ],
     "prompt_number": 71
    },
    {
     "cell_type": "code",
     "collapsed": false,
     "input": [
      "names=['DnMinusN', 'DnMinusP', 'UpMinusN', 'UpMinusP']\n",
      "items=['Dn_-N_v_+N', 'Dn_-P_v_+P', 'Up_-N_v_+N', 'Up_-P_v_+P']\n",
      "RS_final=RegulatedSeq_tpm.copy()\n",
      "for x in RS_final.index:\n",
      "    for name,reg in zip(names,items):\n",
      "        for L in RegHash[name]:\n",
      "            if x in L:\n",
      "                RS_final.loc[x,reg]=1\n"
     ],
     "language": "python",
     "metadata": {},
     "outputs": [],
     "prompt_number": 75
    },
    {
     "cell_type": "code",
     "collapsed": false,
     "input": [
      "RS_final.loc['Skcos15339']"
     ],
     "language": "python",
     "metadata": {},
     "outputs": [
      {
       "metadata": {},
       "output_type": "pyout",
       "prompt_number": 76,
       "text": [
        "Description                CAMNT_0000300745\n",
        "MMETSP_ID      MMETSP0013_2-20120614|23742 \n",
        "S1                                 1134.219\n",
        "S2                                  166.352\n",
        "S3                                 799.5687\n",
        "S4                                 203.9759\n",
        "S5                                 243.5527\n",
        "+N                                 400.5234\n",
        "-N                                 435.0647\n",
        "+P                                 414.1732\n",
        "-P                                  372.316\n",
        "Control                             436.315\n",
        "Up_-N_v_+N                                0\n",
        "Dn_-N_v_+N                                0\n",
        "Up_-P_v_+P                                0\n",
        "Dn_-P_v_+P                                0\n",
        "Name: Skcos15339, dtype: object"
       ]
      }
     ],
     "prompt_number": 76
    },
    {
     "cell_type": "code",
     "collapsed": false,
     "input": [
      "RS_final.to_csv(\"SupplementalTable4_SigGenes_TPM.tab\", sep='\\t')"
     ],
     "language": "python",
     "metadata": {},
     "outputs": [],
     "prompt_number": 77
    },
    {
     "cell_type": "code",
     "collapsed": false,
     "input": [],
     "language": "python",
     "metadata": {},
     "outputs": []
    }
   ],
   "metadata": {}
  }
 ]
}