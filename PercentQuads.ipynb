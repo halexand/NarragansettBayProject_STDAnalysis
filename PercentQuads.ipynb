{
 "metadata": {
  "name": "",
  "signature": "sha256:2d23b7e67a719e691299455622237b86f454faa1e8ea48774afda53079cb9a1d"
 },
 "nbformat": 3,
 "nbformat_minor": 0,
 "worksheets": [
  {
   "cells": [
    {
     "cell_type": "code",
     "collapsed": false,
     "input": [
      "%load Scripts/NB14_STD_Comparison_Graph_Scatter.py"
     ],
     "language": "python",
     "metadata": {},
     "outputs": [],
     "prompt_number": 2
    },
    {
     "cell_type": "code",
     "collapsed": false,
     "input": [
      "#!/usr/bin/env python\n",
      "\n",
      "'''\n",
      "Created on November 9, 2013\n",
      "\n",
      "Comparison script for Throt and Skcos count data; calls upon general and std functions \n",
      "\n",
      "@author: harrietalexander\n",
      "'''\n",
      "\n",
      "import sys\n",
      "import glob\n",
      "import os\n",
      "import numpy as np\n",
      "import re\n",
      "import csv\n",
      "import matplotlib.pylab as plt\n",
      "import matplotlib.cm as cm\n",
      "import STD_Functions as STD\n",
      "import General_STD_analysis_control as GSTD\n",
      "import pickle\n",
      "import matplotlib as mpl\n",
      "mpl.rcParams['pdf.fonttype'] = 42\n",
      "%matplotlib inline\n",
      "#Relies upon the Genearl and STD_functions python files. \n",
      "#Location of pickled files\n",
      "PickleOutDir=\"/Users/harrietalexander/Dropbox/NB_141020/PickledData/\"\n",
      "\n",
      "#Throt_filenames from pickle\n",
      "Throt_filename=['Throt_PupP_STD', 'Throt_PupN_STD', 'Throt_PdnP_STD', 'Throt_PdnN_STD', 'Throt_NupP_STD', 'Throt_NupN_STD', 'Throt_NdnP_STD', 'Throt_NdnN_STD']\n",
      "\n",
      "#Skcos Raw Data\n",
      "\n",
      "#Skcos filenames from pickle\n",
      "Skcos_filename=['Skcos_PupP_STD', 'Skcos_PupN_STD', 'Skcos_PdnP_STD', 'Skcos_PdnN_STD', 'Skcos_NupP_STD', 'Skcos_NupN_STD', 'Skcos_NdnP_STD', 'Skcos_NdnN_STD']\n",
      "\n",
      "#Get STD_all-- from pickle. \n",
      "Throt_STD_all=STD.unPickleAll(Throt_filename, PickleOutDir)\n",
      "\n",
      "Skcos_STD_all=STD.unPickleAll(Skcos_filename, PickleOutDir)\n",
      "\n",
      "\n",
      "\n",
      "\n",
      "\n",
      "\n",
      "\n",
      "\n",
      "\n"
     ],
     "language": "python",
     "metadata": {},
     "outputs": [
      {
       "ename": "ImportError",
       "evalue": "No module named General_STD_analysis_control",
       "output_type": "pyerr",
       "traceback": [
        "\u001b[0;31m---------------------------------------------------------------------------\u001b[0m\n\u001b[0;31mImportError\u001b[0m                               Traceback (most recent call last)",
        "\u001b[0;32m<ipython-input-2-aaa183956571>\u001b[0m in \u001b[0;36m<module>\u001b[0;34m()\u001b[0m\n\u001b[1;32m     18\u001b[0m \u001b[0;32mimport\u001b[0m \u001b[0mmatplotlib\u001b[0m\u001b[0;34m.\u001b[0m\u001b[0mcm\u001b[0m \u001b[0;32mas\u001b[0m \u001b[0mcm\u001b[0m\u001b[0;34m\u001b[0m\u001b[0m\n\u001b[1;32m     19\u001b[0m \u001b[0;32mimport\u001b[0m \u001b[0mSTD_Functions\u001b[0m \u001b[0;32mas\u001b[0m \u001b[0mSTD\u001b[0m\u001b[0;34m\u001b[0m\u001b[0m\n\u001b[0;32m---> 20\u001b[0;31m \u001b[0;32mimport\u001b[0m \u001b[0mGeneral_STD_analysis_control\u001b[0m \u001b[0;32mas\u001b[0m \u001b[0mGSTD\u001b[0m\u001b[0;34m\u001b[0m\u001b[0m\n\u001b[0m\u001b[1;32m     21\u001b[0m \u001b[0;32mimport\u001b[0m \u001b[0mpickle\u001b[0m\u001b[0;34m\u001b[0m\u001b[0m\n\u001b[1;32m     22\u001b[0m \u001b[0;32mimport\u001b[0m \u001b[0mmatplotlib\u001b[0m \u001b[0;32mas\u001b[0m \u001b[0mmpl\u001b[0m\u001b[0;34m\u001b[0m\u001b[0m\n",
        "\u001b[0;31mImportError\u001b[0m: No module named General_STD_analysis_control"
       ]
      }
     ],
     "prompt_number": 2
    },
    {
     "cell_type": "code",
     "collapsed": false,
     "input": [
      "def divideList(list, y):\n",
      "\tnewList=[]\n",
      "\tfor sublist in list: \n",
      "\t\tnewSubList = [float(x)/float(y) for x in sublist]\n",
      "\t\tnewList.append(newSubList)\n",
      "\treturn newList\n",
      "\t\t\n",
      "\n",
      "def count_Quadrants4(STD_Counts, nN, nP): \n",
      "    newHash_N={}\n",
      "    newHash_P={}\n",
      "    for x in [0,2,4,6]:\n",
      "        newHash_N.update(STD_Counts[x+1])\n",
      "        newHash_P.update(STD_Counts[x])\n",
      "\n",
      "    quad1=[[],[],[],[],[],[]] # N and P limited (Co-limited) ; p>1 and n>1\n",
      "    quad2=[[],[],[],[],[],[]] # P limited; p>1 and n<0\n",
      "    quad3=[[],[],[],[],[],[]] # N and P replete; p<0 and n<0\n",
      "    quad4=[[],[],[],[],[],[]] # N limited \n",
      "    count=0\n",
      "    for key in newHash_N:\n",
      "        count+=1\n",
      "        Pnums=newHash_P[key]\n",
      "        Nnums=newHash_N[key]\n",
      "        for x in np.arange(6):\n",
      "            p=Pnums[x]\n",
      "            n=Nnums[x]\n",
      "            if (p>=nP) & (n>=nN): \n",
      "                #Quadrant1 Co-limited\n",
      "                quad1[x].append(key)\n",
      "            elif (p>=nP) & (n<=nN):\n",
      "                #Quadrant2 P-limited \n",
      "                quad2[x].append(key)\n",
      "            elif (p<=nP) & (n<=nN):\n",
      "                #Quadrant3 Replete\n",
      "                quad3[x].append(key)\n",
      "            elif (p<=nP) & (n>=nN):\n",
      "                #Quadrant4 N-limited\n",
      "                quad4[x].append(key)\n",
      "    lenQuad1=[len(quad1[0]), len(quad1[1]), len(quad1[2]), len(quad1[3]), len(quad1[4]), len(quad1[5])]\n",
      "    lenQuad2=[len(quad2[0]), len(quad2[1]), len(quad2[2]), len(quad2[3]), len(quad2[4]), len(quad2[5])] \n",
      "    lenQuad3=[len(quad3[0]), len(quad3[1]), len(quad3[2]), len(quad3[3]), len(quad3[4]), len(quad3[5])]\n",
      "    lenQuad4=[len(quad4[0]), len(quad4[1]), len(quad4[2]), len(quad4[3]), len(quad4[4]), len(quad4[5])] \n",
      "    allLen=[lenQuad1, lenQuad2, lenQuad3, lenQuad4]\n",
      "    allquad=[[quad1, quad2, quad3, quad4], allLen, count]\n",
      "    return allquad\n",
      "\n",
      "\n",
      "Skcos_Quad=count_Quadrants4(Skcos_STD_all, 0.5, 0.5)\n",
      "\n",
      "Skcos_geneList=Skcos_Quad[0]\n",
      "Skcos_quadnums=Skcos_Quad[1]\n",
      "Skcos_total=Skcos_Quad[2]\n",
      "Skcos_quadDiv=divideList(Skcos_quadnums, Skcos_total)\n",
      "\n",
      "Throt_Quad=count_Quadrants4(Throt_STD_all, 0.5, 0.5)\n",
      "\n",
      "Throt_geneList=Throt_Quad[0]\n",
      "Throt_quadnums=Throt_Quad[1]\n",
      "Throt_total=Throt_Quad[2]\n",
      "Throt_quadDiv=divideList(Throt_quadnums, Throt_total)"
     ],
     "language": "python",
     "metadata": {},
     "outputs": [],
     "prompt_number": 8
    },
    {
     "cell_type": "code",
     "collapsed": false,
     "input": [
      "cutoffs=np.linspace(0.25, 0.75, 20)\n",
      "ThrotCutoffs=[]\n",
      "SkcosCutoffs=[]\n",
      "for n in cutoffs:\n",
      "\tfor p in cutoffs:\n",
      "\t\tThrot_Quad=count_Quadrants4(Throt_STD_all, n, p)\n",
      "\t\tThrot_quadnums=Throt_Quad[1]\n",
      "\t\tThrot_total=Throt_Quad[2]\n",
      "\t\tThrot_quadDiv=divideList(Throt_quadnums, Throt_total)\n",
      "\t\tThrotCutoffs.append(Throt_quadDiv)\n",
      "\t\tSkcos_Quad=count_Quadrants4(Skcos_STD_all, n, p)\n",
      "\t\tSkcos_quadnums=Skcos_Quad[1]\n",
      "\t\tSkcos_total=Skcos_Quad[2]\n",
      "\t\tSkcos_quadDiv=divideList(Skcos_quadnums, Skcos_total)\n",
      "\t\tSkcosCutoffs.append(Skcos_quadDiv)\n",
      "\n",
      "        "
     ],
     "language": "python",
     "metadata": {},
     "outputs": [],
     "prompt_number": 21
    },
    {
     "cell_type": "code",
     "collapsed": false,
     "input": [
      "def getMeanSTD(CutoffList):\n",
      "\tL1=[]\n",
      "\tL2=[]\n",
      "\tL3=[]\n",
      "\tL4=[]\n",
      "\tfor list in CutoffList:\n",
      "\t\tL1.append(list[0])\n",
      "\t\tL2.append(list[1])\n",
      "\t\tL3.append(list[2])\n",
      "\t\tL4.append(list[3])\n",
      " \tLa1=np.array(L1)\n",
      " \tLa1Mean=np.mean(La1, axis=0)\n",
      " \tLa1Std=np.std(La1, axis=0)\n",
      " \tLa2=np.array(L2)\n",
      " \tLa2Mean=np.mean(La2, axis=0)\n",
      " \tLa2Std=np.std(La2, axis=0)\n",
      " \tLa3=np.array(L3)\n",
      " \tLa3Mean=np.mean(La3, axis=0)\n",
      " \tLa3Std=np.std(La3, axis=0)\n",
      " \tLa4=np.array(L4)\n",
      " \tLa4Mean=np.mean(La4, axis=0)\n",
      " \tLa4Std=np.std(La4, axis=0)\n",
      "\tMeans=[La1Mean, La2Mean, La3Mean, La4Mean]\n",
      "\tStds=[La1Std, La2Std, La3Std, La4Std]\n",
      "\tAllData=[Means, Stds, [L1, L2, L3, L4]]\n",
      "\treturn AllData\n",
      "\t\n",
      "\t\n",
      "Skcos_MeanSTD=getMeanSTD(SkcosCutoffs)\n",
      "Throt_MeanSTD=getMeanSTD(ThrotCutoffs)"
     ],
     "language": "python",
     "metadata": {},
     "outputs": [],
     "prompt_number": 22
    },
    {
     "cell_type": "code",
     "collapsed": false,
     "input": [
      "N=6\n",
      "ind = np.arange(N)\n",
      "width=0.25\n",
      "U=plt.figure(4)\n",
      "fU1=U.add_subplot(221)\n",
      "fU2=U.add_subplot(222)\n",
      "fU3=U.add_subplot(223)\n",
      "fU4=U.add_subplot(224)\n",
      "Us=[fU1, fU2, fU3, fU4]\n",
      "titles=[\"Co-limited\", \"P-limited\", \"Replete\", \"N-limited\"]\n",
      "for x in range(4):\n",
      "\tfig=Us[x]\n",
      "\tThrotU=fig.bar(ind, Throt_MeanSTD[0][x], width, yerr=Throt_MeanSTD[1][x], color='k', ecolor='k')\n",
      "\tSkcosU=fig.bar(ind+width, Skcos_MeanSTD[0][x], width, yerr=Skcos_MeanSTD[1][x], color='w', ecolor='k')\n",
      "\tfig.set_ylabel('% Quadrant')\n",
      "\tfig.set_xlabel('Sample')\n",
      "\tfig.set_xticks(ind+width)\n",
      "\tfig.set_xticklabels( ('S1', 'S2', 'S3', 'S4', 'S5', 'Control') )\n",
      "\tfig.set_title(titles[x])\t\n",
      "\tfig.set_ylim([0, 0.9])\n",
      "\tif x==1:\n",
      "\t\tfig.legend( (ThrotU[0], SkcosU[0]), ('T. rotula', 'Skeletonema') )\n",
      "plt.show()"
     ],
     "language": "python",
     "metadata": {},
     "outputs": [
      {
       "metadata": {},
       "output_type": "display_data",
       "png": "[encoded data removed]",
       "text": [
        "<matplotlib.figure.Figure at 0x10826ab90>"
       ]
      }
     ],
     "prompt_number": 23
    },
    {
     "cell_type": "code",
     "collapsed": false,
     "input": [
      "def PrintMeanSTD(InList, fileName):\n",
      "#Print a tab delmited containing the mean and standard deviation for each of the quadrants across each of the samples\n",
      "    Quad=['L1','L2','L3','L4']\n",
      "    Sample=['S1','S2','S3','S4','S5','C']\n",
      "    test=file(fileName,'w')\n",
      "    test.write('Quad')\n",
      "    test.write('\\t')\n",
      "    test.write('Sample')\n",
      "    test.write('\\t')\n",
      "    test.write('Percent')\n",
      "    test.write('\\t')\n",
      "    test.write('StandardDev')\n",
      "    test.write('\\n')\n",
      "\n",
      "    for n in range(4):\n",
      "        Avg=InList[0][n]\n",
      "        Std=InList[1][n]\n",
      "        Q=Quad[n]\n",
      "        for A,V,S in zip(Avg, Std, Sample):\n",
      "            ll=[Q,S,A,V]\n",
      "            test.write(\"\\t\".join(str(zz) for zz in ll))\n",
      "            test.write(\"\\n\")\n",
      "    test.close()\n",
      "\n",
      "PrintMeanSTD(Skcos_MeanSTD, 'Skcos_Percent_Quadrant_STD.tab')\n",
      "\n",
      "PrintMeanSTD(Throt_MeanSTD, 'Throt_Percent_Quadrant_STD.tab')\n"
     ],
     "language": "python",
     "metadata": {},
     "outputs": [],
     "prompt_number": 24
    },
    {
     "cell_type": "code",
     "collapsed": false,
     "input": [
      "Skcos_MeanSTD[1]"
     ],
     "language": "python",
     "metadata": {},
     "outputs": [
      {
       "metadata": {},
       "output_type": "pyout",
       "prompt_number": 102,
       "text": [
        "[array([ 0.01777562,  0.00818065,  0.02168726,  0.02760707,  0.04154879,\n",
        "         0.01378358]),\n",
        " array([ 0.02143301,  0.01061784,  0.02245561,  0.06253367,  0.05706846,\n",
        "         0.01046871]),\n",
        " array([ 0.03384005,  0.00949546,  0.04685721,  0.06524896,  0.08266793,\n",
        "         0.04025365]),\n",
        " array([ 0.0316504 ,  0.00665944,  0.04649388,  0.0333034 ,  0.072825  ,\n",
        "         0.04124015])]"
       ]
      }
     ],
     "prompt_number": 102
    },
    {
     "cell_type": "code",
     "collapsed": false,
     "input": [
      "Skcos_MeanSTD[1][1]"
     ],
     "language": "python",
     "metadata": {},
     "outputs": [
      {
       "metadata": {},
       "output_type": "pyout",
       "prompt_number": 16,
       "text": [
        "array([ 0.02143301,  0.01061784,  0.02245561,  0.06253367,  0.05706846,\n",
        "        0.01046871])"
       ]
      }
     ],
     "prompt_number": 16
    },
    {
     "cell_type": "code",
     "collapsed": false,
     "input": [],
     "language": "python",
     "metadata": {},
     "outputs": []
    }
   ],
   "metadata": {}
  }
 ]
}