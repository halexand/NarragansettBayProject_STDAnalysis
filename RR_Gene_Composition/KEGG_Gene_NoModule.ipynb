{
 "metadata": {
  "name": "",
  "signature": "sha256:390f05b59194f6822f9997fd6ad6fcc51e6246d65b9baac92a09df6591b2babc"
 },
 "nbformat": 3,
 "nbformat_minor": 0,
 "worksheets": [
  {
   "cells": [
    {
     "cell_type": "code",
     "collapsed": false,
     "input": [
      "import matplotlib as mpl\n",
      "import matplotlib.pyplot as plt\n",
      "import pandas as pd\n",
      "import numpy as np\n",
      "import urllib\n",
      "from BeautifulSoup import BeautifulSoup\n",
      "from matplotlib.ticker import FuncFormatter\n",
      "import matplotlib\n",
      "%matplotlib inline\n",
      "pd.set_option('display.max_rows',50)\n",
      "pd.set_option('display.max_columns',50)\n",
      "mpl.rcParams['font.sans-serif']='Arial'\n",
      "mpl.rcParams['pdf.fonttype'] = 42"
     ],
     "language": "python",
     "metadata": {},
     "outputs": [],
     "prompt_number": 1
    },
    {
     "cell_type": "code",
     "collapsed": false,
     "input": [
      "def importList(infile):\n",
      "    outList=[]\n",
      "    for line in open(infile):\n",
      "        line=line.strip()\n",
      "        outList.append(line)\n",
      "    return outList\n",
      "\n",
      "def getKEGGID(inList,inDict):\n",
      "    newDict=pd.DataFrame(index=[],columns=['KEGG'])\n",
      "    for gid in inList:\n",
      "        if gid in inDict.index:\n",
      "            kid=inDict.loc[gid,'KEGG']\n",
      "            if kid in newDict.index:\n",
      "                newDict.loc[kid,'KEGG'].append(gid)\n",
      "            else:\n",
      "                newDict.loc[kid,'KEGG']=[gid]\n",
      "    return newDict\n"
     ],
     "language": "python",
     "metadata": {},
     "outputs": [],
     "prompt_number": 2
    },
    {
     "cell_type": "code",
     "collapsed": false,
     "input": [
      "#Import RR gene list \n",
      "T_RR=importList(\"Throt_RR_Genes.tab\")\n",
      "S_RR=importList(\"Skcos_RR_Genes.tab\")\n",
      "#Import KAAS ID\n",
      "T_KASS=pd.read_table(\"Throt_KAASONLY.txt\",index_col=0)\n",
      "S_KASS=pd.read_table(\"Skcos_KAASONLY.txt\",index_col=0)\n",
      "#Get pd dictionary with KID and associated Genes\n",
      "T_RR_KID=getKEGGID(T_RR,T_KASS)\n",
      "S_RR_KID=getKEGGID(S_RR,S_KASS)"
     ],
     "language": "python",
     "metadata": {},
     "outputs": [],
     "prompt_number": 3
    },
    {
     "cell_type": "code",
     "collapsed": false,
     "input": [
      "page = urllib.urlopen(\"http://www.genome.jp/dbget-bin/www_bget?ko:K17616\")\n",
      "htmlsource = page.read()"
     ],
     "language": "python",
     "metadata": {},
     "outputs": [],
     "prompt_number": 4
    },
    {
     "cell_type": "code",
     "collapsed": false,
     "input": [
      "def getKOid(inPD):\n",
      "    outPD=inPD.copy()\n",
      "    outPD['Definition']=pd.Series([0]*len(inPD),index=inPD.index)\n",
      "    for k in inPD.index:\n",
      "        \n",
      "        address=\"http://www.genome.jp/dbget-bin/www_bget?ko:\"+k\n",
      "        page = urllib.urlopen(address)\n",
      "        htmlsource = page.read()\n",
      "        parsed_html = BeautifulSoup(htmlsource)\n",
      "        if len(parsed_html.findAll('td', attrs={'class':\"td40\"}))>1:\n",
      "            ID=parsed_html.findAll('td', attrs={'class':\"td40\"})[1].text\n",
      "            outPD.loc[k,'Definition']=ID\n",
      "    return outPD"
     ],
     "language": "python",
     "metadata": {},
     "outputs": [],
     "prompt_number": 5
    },
    {
     "cell_type": "code",
     "collapsed": false,
     "input": [
      "#Get the KOid for all the significant genes with any sort of id\n",
      "T_RR_KID2=getKOid(T_RR_KID)\n",
      "S_RR_KID2=getKOid(S_RR_KID)"
     ],
     "language": "python",
     "metadata": {},
     "outputs": [],
     "prompt_number": 109
    },
    {
     "cell_type": "code",
     "collapsed": false,
     "input": [
      "import pickle\n",
      "T_RR_KID2.to_csv(\"T_RR_KEGG_ID.tab\",sep='\\t')\n",
      "S_RR_KID2.to_csv(\"S_RR_KEGG_ID.tab\",sep='\\t')\n",
      "Hash_RR={'T':T_RR_KID2, 'S':S_RR_KID2}\n",
      "pickle.dump(Hash_RR, open(\"KEGG_RR_ID.pickle\",'wb'))"
     ],
     "language": "python",
     "metadata": {},
     "outputs": [],
     "prompt_number": 115
    },
    {
     "cell_type": "code",
     "collapsed": false,
     "input": [
      "import pickle\n",
      "Hash_RR=pd.read_pickle(\"KEGG_RR_ID.pickle\")"
     ],
     "language": "python",
     "metadata": {},
     "outputs": [],
     "prompt_number": 4
    },
    {
     "cell_type": "code",
     "collapsed": false,
     "input": [
      "T_RR_KID2=Hash_RR['T']\n",
      "S_RR_KID2=Hash_RR['S']"
     ],
     "language": "python",
     "metadata": {},
     "outputs": [],
     "prompt_number": 5
    },
    {
     "cell_type": "code",
     "collapsed": false,
     "input": [
      "S_KID_Set=(S_RR_KID.index)\n",
      "T_KID_Set=(T_RR_KID.index)\n",
      "S_T_Intersect=S_KID_Set.intersection(T_KID_Set)\n"
     ],
     "language": "python",
     "metadata": {},
     "outputs": [],
     "prompt_number": 49
    },
    {
     "cell_type": "code",
     "collapsed": false,
     "input": [
      "Count_Table=pd.read_table('SigGenes.txt', index_col='Short ID')\n",
      "Count_Table['KEGG']='NaN'\n",
      "Count_Table['KEGG Definition']='NaN'\n",
      "All_KASS=T_KASS.append(S_KASS)\n",
      "All_KID2=T_RR_KID2.append(S_RR_KID2)\n",
      "for x in Count_Table.index:\n",
      "    if x in All_KASS.index:\n",
      "        KID=All_KASS.loc[x,'KEGG']\n",
      "#         print KID\n",
      "        Count_Table.loc[x,'KEGG']=str(KID)\n",
      "        if KID in All_KID2.index:\n",
      "            Def=All_KID2.loc[KID,'Definition']\n",
      "            if len(Def[0])>1:\n",
      "                Count_Table.loc[x,'KEGG Definition']=str(Def[0])\n",
      "            else:\n",
      "                Count_Table.loc[x,'KEGG Definition']=str(Def)\n",
      "Count_Table.to_csv('SupplementalDataSet2.tab',sep='\\t')"
     ],
     "language": "python",
     "metadata": {},
     "outputs": [],
     "prompt_number": 58
    },
    {
     "cell_type": "code",
     "collapsed": false,
     "input": [
      "All_KASS"
     ],
     "language": "python",
     "metadata": {},
     "outputs": [
      {
       "html": [
        "<div style=\"max-height:1000px;max-width:1500px;overflow:auto;\">\n",
        "<table border=\"1\" class=\"dataframe\">\n",
        "  <thead>\n",
        "    <tr style=\"text-align: right;\">\n",
        "      <th></th>\n",
        "      <th>KEGG</th>\n",
        "    </tr>\n",
        "  </thead>\n",
        "  <tbody>\n",
        "    <tr>\n",
        "      <th>Throt44</th>\n",
        "      <td> K03665</td>\n",
        "    </tr>\n",
        "    <tr>\n",
        "      <th>Throt53</th>\n",
        "      <td> K09969</td>\n",
        "    </tr>\n",
        "    <tr>\n",
        "      <th>Throt54</th>\n",
        "      <td> K01001</td>\n",
        "    </tr>\n",
        "    <tr>\n",
        "      <th>Throt81</th>\n",
        "      <td> K02703</td>\n",
        "    </tr>\n",
        "    <tr>\n",
        "      <th>Throt94</th>\n",
        "      <td> K03231</td>\n",
        "    </tr>\n",
        "    <tr>\n",
        "      <th>Throt111</th>\n",
        "      <td> K05601</td>\n",
        "    </tr>\n",
        "    <tr>\n",
        "      <th>Throt112</th>\n",
        "      <td> K03235</td>\n",
        "    </tr>\n",
        "    <tr>\n",
        "      <th>Throt120</th>\n",
        "      <td> K09515</td>\n",
        "    </tr>\n",
        "    <tr>\n",
        "      <th>Throt133</th>\n",
        "      <td> K05863</td>\n",
        "    </tr>\n",
        "    <tr>\n",
        "      <th>Throt138</th>\n",
        "      <td> K02639</td>\n",
        "    </tr>\n",
        "    <tr>\n",
        "      <th>Throt156</th>\n",
        "      <td> K02641</td>\n",
        "    </tr>\n",
        "    <tr>\n",
        "      <th>Throt169</th>\n",
        "      <td> K00134</td>\n",
        "    </tr>\n",
        "    <tr>\n",
        "      <th>Throt175</th>\n",
        "      <td> K02969</td>\n",
        "    </tr>\n",
        "    <tr>\n",
        "      <th>Throt178</th>\n",
        "      <td> K02865</td>\n",
        "    </tr>\n",
        "    <tr>\n",
        "      <th>Throt179</th>\n",
        "      <td> K03883</td>\n",
        "    </tr>\n",
        "    <tr>\n",
        "      <th>Throt186</th>\n",
        "      <td> K02951</td>\n",
        "    </tr>\n",
        "    <tr>\n",
        "      <th>Throt193</th>\n",
        "      <td> K08906</td>\n",
        "    </tr>\n",
        "    <tr>\n",
        "      <th>Throt207</th>\n",
        "      <td> K00940</td>\n",
        "    </tr>\n",
        "    <tr>\n",
        "      <th>Throt213</th>\n",
        "      <td> K02980</td>\n",
        "    </tr>\n",
        "    <tr>\n",
        "      <th>Throt219</th>\n",
        "      <td> K01623</td>\n",
        "    </tr>\n",
        "    <tr>\n",
        "      <th>Throt221</th>\n",
        "      <td> K02924</td>\n",
        "    </tr>\n",
        "    <tr>\n",
        "      <th>Throt222</th>\n",
        "      <td> K06630</td>\n",
        "    </tr>\n",
        "    <tr>\n",
        "      <th>Throt227</th>\n",
        "      <td> K02978</td>\n",
        "    </tr>\n",
        "    <tr>\n",
        "      <th>Throt228</th>\n",
        "      <td> K00672</td>\n",
        "    </tr>\n",
        "    <tr>\n",
        "      <th>Throt230</th>\n",
        "      <td> K02905</td>\n",
        "    </tr>\n",
        "    <tr>\n",
        "      <th>...</th>\n",
        "      <td>...</td>\n",
        "    </tr>\n",
        "    <tr>\n",
        "      <th>Skcos27273</th>\n",
        "      <td> K00077</td>\n",
        "    </tr>\n",
        "    <tr>\n",
        "      <th>Skcos27309</th>\n",
        "      <td> K10536</td>\n",
        "    </tr>\n",
        "    <tr>\n",
        "      <th>Skcos27316</th>\n",
        "      <td> K17279</td>\n",
        "    </tr>\n",
        "    <tr>\n",
        "      <th>Skcos27344</th>\n",
        "      <td> K16194</td>\n",
        "    </tr>\n",
        "    <tr>\n",
        "      <th>Skcos27456</th>\n",
        "      <td> K10843</td>\n",
        "    </tr>\n",
        "    <tr>\n",
        "      <th>Skcos27458</th>\n",
        "      <td> K04554</td>\n",
        "    </tr>\n",
        "    <tr>\n",
        "      <th>Skcos27471</th>\n",
        "      <td> K12611</td>\n",
        "    </tr>\n",
        "    <tr>\n",
        "      <th>Skcos27472</th>\n",
        "      <td> K01823</td>\n",
        "    </tr>\n",
        "    <tr>\n",
        "      <th>Skcos27476</th>\n",
        "      <td> K01915</td>\n",
        "    </tr>\n",
        "    <tr>\n",
        "      <th>Skcos27482</th>\n",
        "      <td> K12600</td>\n",
        "    </tr>\n",
        "    <tr>\n",
        "      <th>Skcos27488</th>\n",
        "      <td> K03243</td>\n",
        "    </tr>\n",
        "    <tr>\n",
        "      <th>Skcos27504</th>\n",
        "      <td> K10706</td>\n",
        "    </tr>\n",
        "    <tr>\n",
        "      <th>Skcos27540</th>\n",
        "      <td> K03544</td>\n",
        "    </tr>\n",
        "    <tr>\n",
        "      <th>Skcos27546</th>\n",
        "      <td> K02705</td>\n",
        "    </tr>\n",
        "    <tr>\n",
        "      <th>Skcos27555</th>\n",
        "      <td> K08994</td>\n",
        "    </tr>\n",
        "    <tr>\n",
        "      <th>Skcos27563</th>\n",
        "      <td> K01934</td>\n",
        "    </tr>\n",
        "    <tr>\n",
        "      <th>Skcos27569</th>\n",
        "      <td> K04564</td>\n",
        "    </tr>\n",
        "    <tr>\n",
        "      <th>Skcos27596</th>\n",
        "      <td> K10696</td>\n",
        "    </tr>\n",
        "    <tr>\n",
        "      <th>Skcos27607</th>\n",
        "      <td> K07511</td>\n",
        "    </tr>\n",
        "    <tr>\n",
        "      <th>Skcos27611</th>\n",
        "      <td> K12812</td>\n",
        "    </tr>\n",
        "    <tr>\n",
        "      <th>Skcos27624</th>\n",
        "      <td> K07375</td>\n",
        "    </tr>\n",
        "    <tr>\n",
        "      <th>Skcos27626</th>\n",
        "      <td> K14209</td>\n",
        "    </tr>\n",
        "    <tr>\n",
        "      <th>Skcos27630</th>\n",
        "      <td> K10572</td>\n",
        "    </tr>\n",
        "    <tr>\n",
        "      <th>Skcos27652</th>\n",
        "      <td> K00860</td>\n",
        "    </tr>\n",
        "    <tr>\n",
        "      <th>Skcos27661</th>\n",
        "      <td> K13101</td>\n",
        "    </tr>\n",
        "  </tbody>\n",
        "</table>\n",
        "<p>5996 rows \u00d7 1 columns</p>\n",
        "</div>"
       ],
       "metadata": {},
       "output_type": "pyout",
       "prompt_number": 26,
       "text": [
        "              KEGG\n",
        "Throt44     K03665\n",
        "Throt53     K09969\n",
        "Throt54     K01001\n",
        "Throt81     K02703\n",
        "Throt94     K03231\n",
        "Throt111    K05601\n",
        "Throt112    K03235\n",
        "Throt120    K09515\n",
        "Throt133    K05863\n",
        "Throt138    K02639\n",
        "Throt156    K02641\n",
        "Throt169    K00134\n",
        "Throt175    K02969\n",
        "Throt178    K02865\n",
        "Throt179    K03883\n",
        "Throt186    K02951\n",
        "Throt193    K08906\n",
        "Throt207    K00940\n",
        "Throt213    K02980\n",
        "Throt219    K01623\n",
        "Throt221    K02924\n",
        "Throt222    K06630\n",
        "Throt227    K02978\n",
        "Throt228    K00672\n",
        "Throt230    K02905\n",
        "...            ...\n",
        "Skcos27273  K00077\n",
        "Skcos27309  K10536\n",
        "Skcos27316  K17279\n",
        "Skcos27344  K16194\n",
        "Skcos27456  K10843\n",
        "Skcos27458  K04554\n",
        "Skcos27471  K12611\n",
        "Skcos27472  K01823\n",
        "Skcos27476  K01915\n",
        "Skcos27482  K12600\n",
        "Skcos27488  K03243\n",
        "Skcos27504  K10706\n",
        "Skcos27540  K03544\n",
        "Skcos27546  K02705\n",
        "Skcos27555  K08994\n",
        "Skcos27563  K01934\n",
        "Skcos27569  K04564\n",
        "Skcos27596  K10696\n",
        "Skcos27607  K07511\n",
        "Skcos27611  K12812\n",
        "Skcos27624  K07375\n",
        "Skcos27626  K14209\n",
        "Skcos27630  K10572\n",
        "Skcos27652  K00860\n",
        "Skcos27661  K13101\n",
        "\n",
        "[5996 rows x 1 columns]"
       ]
      }
     ],
     "prompt_number": 26
    },
    {
     "cell_type": "code",
     "collapsed": false,
     "input": [
      "def flatList(l):\n",
      "    L=[item for sublist in l for item in sublist]\n",
      "    return L\n",
      "\n",
      "T=list(T_RR_KID['KEGG'])\n",
      "S=list(S_RR_KID['KEGG'])\n",
      "t=flatList(T)\n",
      "s=flatList(S)"
     ],
     "language": "python",
     "metadata": {},
     "outputs": [],
     "prompt_number": 7
    },
    {
     "cell_type": "code",
     "collapsed": false,
     "input": [
      "float(len(t))/len(T_RR)"
     ],
     "language": "python",
     "metadata": {},
     "outputs": [
      {
       "metadata": {},
       "output_type": "pyout",
       "prompt_number": 8,
       "text": [
        "0.12724935732647816"
       ]
      }
     ],
     "prompt_number": 8
    },
    {
     "cell_type": "code",
     "collapsed": false,
     "input": [
      "float(len(s))/len(S_RR)"
     ],
     "language": "python",
     "metadata": {},
     "outputs": [
      {
       "metadata": {},
       "output_type": "pyout",
       "prompt_number": 10,
       "text": [
        "0.17681384944563314"
       ]
      }
     ],
     "prompt_number": 10
    },
    {
     "cell_type": "markdown",
     "metadata": {},
     "source": [
      "Create a stacked bar plot for the annotated vs. unnannotated portions. "
     ]
    },
    {
     "cell_type": "code",
     "collapsed": false,
     "input": [
      "N = 2\n",
      "#Skeletonema #Thalassiosira \n",
      "unannotated   = (len(S_RR)-len(s), len(T_RR)-len(t))\n",
      "annotated = (len(s),len(t))\n",
      "ind = np.arange(N)    # the x locations for the groups\n",
      "width = 0.35       # the width of the bars: can also be len(x) sequence\n",
      "\n",
      "p1 = plt.bar(ind, unannotated,   width, color='r')\n",
      "p2 = plt.bar(ind, annotated, width, color='y',\n",
      "             bottom=unannotated)\n",
      "\n",
      "plt.xticks(ind+width/2., ('Skeletonema spp.', 'T. rotula') )\n",
      "# plt.yticks(np.arange(0,81,10))\n",
      "plt.legend( (p1[0], p2[0]), ('Unannotated', 'Anntoated') )\n",
      "plt.margins(0.5,0)\n",
      "plt.tick_params(axis='both', which='both', bottom='off', top='off', right='off',left='off' )\n",
      "plt.show()\n"
     ],
     "language": "python",
     "metadata": {},
     "outputs": [
      {
       "metadata": {},
       "output_type": "display_data",
       "png": "[encoded data removed]",
       "text": [
        "<matplotlib.figure.Figure at 0x108242610>"
       ]
      }
     ],
     "prompt_number": 11
    },
    {
     "cell_type": "code",
     "collapsed": false,
     "input": [
      "def to_percent(y, position):\n",
      "    # Ignore the passed in position. This has the effect of scaling the default\n",
      "    # tick locations.\n",
      "    y=int(100*y)\n",
      "    s = str(y)\n",
      "\n",
      "    # The percent symbol needs escaping in latex\n",
      "    if matplotlib.rcParams['text.usetex'] == True:\n",
      "        return s + r'$\\%$'\n",
      "    else:\n",
      "        return s + '%'\n",
      "\n",
      "\n",
      "\n",
      "T=list(T_RR_KID['KEGG'])\n",
      "S=list(S_RR_KID['KEGG'])\n",
      "t=flatList(T)\n",
      "s=flatList(S)\n",
      "N = 2\n",
      "#Skeletonema #Thalassiosira \n",
      "unannotated   = ( float(len(T_RR)-len(t))/len(T_RR),float(len(S_RR)-len(s))/len(S_RR))\n",
      "annotated = (float(len(t))/len(T_RR),float(len(s))/len(S_RR))\n",
      "ind = np.arange(N)    # the x locations for the groups\n",
      "width = 0.45       # the width of the bars: can also be len(x) sequence\n",
      "fig,ax=plt.subplots(1)\n",
      "ax.set_aspect('equal')\n",
      "p1 = ax.bar(ind, unannotated,   width, color=[0.9,0.9,0.9],linewidth=0)\n",
      "p2 = ax.bar(ind, annotated, width, color='k',\n",
      "             bottom=unannotated,linewidth=0)\n",
      "tspace=ind+width/2.\n",
      "plt.xticks(tspace, ( 'T. rotula','Skeletonema spp.'),   size='x-large', style='italic')\n",
      "ax.set_yticks(np.linspace(0,1,5))\n",
      "formatter = FuncFormatter(to_percent)\n",
      "plt.gca().yaxis.set_major_formatter(formatter)\n",
      "\n",
      "\n",
      "# plt.legend( (p1[0], p2[0]), ('Unannotated', 'Anntoated') )\n",
      "ax.margins(.2,0)\n",
      "ax.tick_params(axis='both', which='both', bottom='off', top='off', right='off',left='off' )\n",
      "ax.spines['top'].set_visible(False)\n",
      "ax.spines['right'].set_visible(False)\n",
      "ax.text(tspace[1],.1, str(len(S_RR)), ha='center', size='large', weight='bold')\n",
      "ax.text(tspace[0],.1, str(len(T_RR)), ha='center', size='large', weight='bold')\n",
      "\n",
      "plt.ylim([0,1.05])\n",
      "plt.show()\n",
      "\n",
      "fig.savefig('BarChart_RRGenes_Mapped.pdf')"
     ],
     "language": "python",
     "metadata": {},
     "outputs": [
      {
       "metadata": {},
       "output_type": "display_data",
       "png": "[encoded data removed]",
       "text": [
        "<matplotlib.figure.Figure at 0x10826e510>"
       ]
      }
     ],
     "prompt_number": 15
    },
    {
     "cell_type": "code",
     "collapsed": false,
     "input": [
      "unannotated   = (len(S_RR)-len(s), len(T_RR)-len(t))\n"
     ],
     "language": "python",
     "metadata": {},
     "outputs": [],
     "prompt_number": 17
    },
    {
     "cell_type": "code",
     "collapsed": false,
     "input": [
      "unannotated"
     ],
     "language": "python",
     "metadata": {},
     "outputs": [
      {
       "metadata": {},
       "output_type": "pyout",
       "prompt_number": 18,
       "text": [
        "(4232, 679)"
       ]
      }
     ],
     "prompt_number": 18
    },
    {
     "cell_type": "code",
     "collapsed": false,
     "input": [
      "print  float(len(T_RR)-len(t))/len(T_RR),float(len(S_RR)-len(s))/len(S_RR)"
     ],
     "language": "python",
     "metadata": {},
     "outputs": [
      {
       "output_type": "stream",
       "stream": "stdout",
       "text": [
        "0.872750642674 0.823186150554\n"
       ]
      }
     ],
     "prompt_number": 19
    },
    {
     "cell_type": "code",
     "collapsed": false,
     "input": [
      "print float(len(t))/len(T_RR),float(len(s))/len(S_RR)"
     ],
     "language": "python",
     "metadata": {},
     "outputs": [
      {
       "output_type": "stream",
       "stream": "stdout",
       "text": [
        "0.127249357326 0.176813849446\n"
       ]
      }
     ],
     "prompt_number": 20
    },
    {
     "cell_type": "code",
     "collapsed": false,
     "input": [],
     "language": "python",
     "metadata": {},
     "outputs": []
    }
   ],
   "metadata": {}
  }
 ]
}